{
 "cells": [
  {
   "cell_type": "code",
   "execution_count": 2,
   "metadata": {},
   "outputs": [],
   "source": [
    "import numpy as np"
   ]
  },
  {
   "cell_type": "code",
   "execution_count": 3,
   "metadata": {},
   "outputs": [
    {
     "data": {
      "text/plain": [
       "array([[0, 1, 2, 3, 4],\n",
       "       [5, 6, 7, 8, 9]])"
      ]
     },
     "execution_count": 3,
     "metadata": {},
     "output_type": "execute_result"
    }
   ],
   "source": [
    "#Question:1\n",
    "#Convert a 1D array to a 2D array with 2 rows?\n",
    "#Desired Output: array([[0, 1, 2, 3, 4], [5, 6, 7, 8, 9]])\n",
    "Q1 = np.array([0, 1, 2, 3, 4, 5, 6, 7, 8, 9])\n",
    "Q1.reshape(2,5)"
   ]
  },
  {
   "cell_type": "code",
   "execution_count": 23,
   "metadata": {},
   "outputs": [
    {
     "data": {
      "text/plain": [
       "array([[0, 1, 2, 3, 4],\n",
       "       [5, 6, 7, 8, 9],\n",
       "       [1, 1, 1, 1, 1],\n",
       "       [1, 1, 1, 1, 1]])"
      ]
     },
     "execution_count": 23,
     "metadata": {},
     "output_type": "execute_result"
    }
   ],
   "source": [
    "#Question:2\n",
    "#How to stack two arrays vertically?\n",
    "#Desired Output: array([[0, 1, 2, 3, 4], [5, 6, 7, 8, 9], [1, 1, 1, 1, 1], [1, 1, 1, 1, 1]])\n",
    "Q2x = np.array([[0, 1, 2, 3, 4], [5, 6, 7, 8, 9]])\n",
    "Q2y = np.array([[1, 1, 1, 1, 1], [1, 1, 1, 1, 1]])\n",
    "np.concatenate((Q2x, Q2y), axis=0)"
   ]
  },
  {
   "cell_type": "code",
   "execution_count": 25,
   "metadata": {},
   "outputs": [
    {
     "data": {
      "text/plain": [
       "array([[0, 1, 2, 3, 4, 1, 1, 1, 1, 1],\n",
       "       [5, 6, 7, 8, 9, 1, 1, 1, 1, 1]])"
      ]
     },
     "execution_count": 25,
     "metadata": {},
     "output_type": "execute_result"
    }
   ],
   "source": [
    "#Question:3\n",
    "#How to stack two arrays horizontally?\n",
    "#Desired Output: array([[0, 1, 2, 3, 4, 1, 1, 1, 1, 1], [5, 6, 7, 8, 9, 1, 1, 1, 1, 1]])\n",
    "Q3x = np.array([[0, 1, 2, 3, 4], [5, 6, 7, 8, 9]])\n",
    "Q3y = np.array([[1, 1, 1, 1, 1], [1, 1, 1, 1, 1]])\n",
    "np.concatenate((Q3x, Q3y), axis=1)"
   ]
  },
  {
   "cell_type": "code",
   "execution_count": 31,
   "metadata": {},
   "outputs": [
    {
     "data": {
      "text/plain": [
       "array([0, 1, 2, 3, 4, 5, 6, 7, 8, 9])"
      ]
     },
     "execution_count": 31,
     "metadata": {},
     "output_type": "execute_result"
    }
   ],
   "source": [
    "#Question:4\n",
    "#How to convert an array of arrays into a flat 1d array?\n",
    "#Desired Output::array([0, 1, 2, 3, 4, 5, 6, 7, 8, 9])\n",
    "Q4x = np.array([[0, 1, 2, 3, 4], [5, 6, 7, 8, 9]])\n",
    "np.ndarray.flatten(Q4x)"
   ]
  },
  {
   "cell_type": "code",
   "execution_count": 38,
   "metadata": {},
   "outputs": [
    {
     "data": {
      "text/plain": [
       "array([ 0,  1,  2,  3,  4,  5,  6,  7,  8,  9, 10, 11, 12, 13, 14])"
      ]
     },
     "execution_count": 38,
     "metadata": {},
     "output_type": "execute_result"
    }
   ],
   "source": [
    "#Question:5\n",
    "#How to Convert higher dimension into one dimension?\n",
    "#Desired Output::array([ 0, 1, 2, 3, 4, 5, 6, 7, 8, 9, 10, 11, 12, 13, 14])\n",
    "Q5x = np.array([[0, 1, 2, 3, 4], [5, 6, 7, 8, 9], [10, 11, 12, 13, 14]])\n",
    "Q5new_arr = Q5x.reshape(15)\n",
    "Q5new_arr"
   ]
  },
  {
   "cell_type": "code",
   "execution_count": 43,
   "metadata": {},
   "outputs": [
    {
     "data": {
      "text/plain": [
       "array([[ 0,  1,  2],\n",
       "       [ 3,  4,  5],\n",
       "       [ 6,  7,  8],\n",
       "       [ 9, 10, 11],\n",
       "       [12, 13, 14]])"
      ]
     },
     "execution_count": 43,
     "metadata": {},
     "output_type": "execute_result"
    }
   ],
   "source": [
    "#Question:6\n",
    "#Convert one dimension to higher dimension?\n",
    "#Desired Output::array([[ 0, 1, 2], [ 3, 4, 5], [ 6, 7, 8], [ 9, 10, 11], [12, 13, 14]])\n",
    "Q6x = np.array([ 0,  1,  2,  3,  4,  5,  6,  7,  8,  9, 10, 11, 12, 13, 14])\n",
    "Q6new_arr = Q5x.reshape(5,3)\n",
    "Q6new_arr"
   ]
  },
  {
   "cell_type": "code",
   "execution_count": 47,
   "metadata": {},
   "outputs": [
    {
     "data": {
      "text/plain": [
       "array([[9.31808611e-02, 1.21198802e-02, 3.62019035e-01, 3.23890264e-01,\n",
       "        3.47238451e-01],\n",
       "       [1.86283933e-02, 1.17695934e-01, 3.35142910e-01, 4.68432347e-01,\n",
       "        9.80899167e-01],\n",
       "       [9.00627169e-01, 9.68324161e-02, 2.14711456e-01, 2.51406958e-02,\n",
       "        1.82013825e-01],\n",
       "       [7.29778817e-02, 6.92133693e-01, 4.32512543e-02, 3.43498089e-01,\n",
       "        9.48214739e-01],\n",
       "       [4.69194705e-03, 4.79346960e-01, 3.00862080e-01, 8.12674066e-01,\n",
       "        2.94052896e-04]])"
      ]
     },
     "execution_count": 47,
     "metadata": {},
     "output_type": "execute_result"
    }
   ],
   "source": [
    "#Question:7\n",
    "#Create 5x5 an array and find the square of an array?\n",
    "Q7x = np.random.rand(5,5)\n",
    "np.square(Q7x)"
   ]
  },
  {
   "cell_type": "code",
   "execution_count": 50,
   "metadata": {},
   "outputs": [
    {
     "data": {
      "text/plain": [
       "0.5730152710673105"
      ]
     },
     "execution_count": 50,
     "metadata": {},
     "output_type": "execute_result"
    }
   ],
   "source": [
    "#Question:8\n",
    "#Create 5x6 an array and find the mean?\n",
    "Q8x = np.random.rand(5,5)\n",
    "np.mean(Q8x)"
   ]
  },
  {
   "cell_type": "code",
   "execution_count": 51,
   "metadata": {},
   "outputs": [
    {
     "data": {
      "text/plain": [
       "0.2776704093377097"
      ]
     },
     "execution_count": 51,
     "metadata": {},
     "output_type": "execute_result"
    }
   ],
   "source": [
    "#Question:9\n",
    "#Find the standard deviation of the previous array in Q8?\n",
    "np.std(Q8x)"
   ]
  },
  {
   "cell_type": "code",
   "execution_count": 52,
   "metadata": {},
   "outputs": [
    {
     "data": {
      "text/plain": [
       "0.5454063854937587"
      ]
     },
     "execution_count": 52,
     "metadata": {},
     "output_type": "execute_result"
    }
   ],
   "source": [
    "#Question:10\n",
    "#Find the median of the previous array in Q8?\n",
    "np.median(Q8x)"
   ]
  },
  {
   "cell_type": "code",
   "execution_count": 53,
   "metadata": {},
   "outputs": [
    {
     "data": {
      "text/plain": [
       "array([[0.9152421 , 0.73983954, 0.38684953, 0.94070528, 0.54540639],\n",
       "       [0.05599119, 0.99339762, 0.37890545, 0.28489268, 0.67564992],\n",
       "       [0.15035753, 0.47668798, 0.90901394, 0.46345035, 0.67816714],\n",
       "       [0.66142905, 0.85235113, 0.41094962, 0.39579345, 0.93124041],\n",
       "       [0.6654565 , 0.50527361, 0.10451976, 0.92337379, 0.28043782]])"
      ]
     },
     "execution_count": 53,
     "metadata": {},
     "output_type": "execute_result"
    }
   ],
   "source": [
    "#Question:11\n",
    "#Find the transpose of the previous array in Q8?\n",
    "np.transpose(Q8x)"
   ]
  },
  {
   "cell_type": "code",
   "execution_count": 59,
   "metadata": {},
   "outputs": [
    {
     "data": {
      "text/plain": [
       "2.0052884888673885"
      ]
     },
     "execution_count": 59,
     "metadata": {},
     "output_type": "execute_result"
    }
   ],
   "source": [
    "#Question:12\n",
    "#Create a 4x4 an array and find the sum of diagonal elements?\n",
    "Q12x = np.random.rand(4,4)\n",
    "np.sum(Q12x.diagonal())"
   ]
  },
  {
   "cell_type": "code",
   "execution_count": 62,
   "metadata": {},
   "outputs": [
    {
     "data": {
      "text/plain": [
       "-0.06019107480220062"
      ]
     },
     "execution_count": 62,
     "metadata": {},
     "output_type": "execute_result"
    }
   ],
   "source": [
    "#Question:13\n",
    "#Find the determinant of the previous array in Q12?\n",
    "np.linalg.det(Q12x)"
   ]
  },
  {
   "cell_type": "code",
   "execution_count": 1,
   "metadata": {},
   "outputs": [
    {
     "ename": "NameError",
     "evalue": "name 'np' is not defined",
     "output_type": "error",
     "traceback": [
      "\u001b[1;31m---------------------------------------------------------------------------\u001b[0m",
      "\u001b[1;31mNameError\u001b[0m                                 Traceback (most recent call last)",
      "\u001b[1;32m<ipython-input-1-2dbe8b954d23>\u001b[0m in \u001b[0;36m<module>\u001b[1;34m\u001b[0m\n\u001b[0;32m      1\u001b[0m \u001b[1;31m#Question:14\u001b[0m\u001b[1;33m\u001b[0m\u001b[1;33m\u001b[0m\u001b[1;33m\u001b[0m\u001b[0m\n\u001b[0;32m      2\u001b[0m \u001b[1;31m#Find the 5th and 95th percentile of an array?\u001b[0m\u001b[1;33m\u001b[0m\u001b[1;33m\u001b[0m\u001b[1;33m\u001b[0m\u001b[0m\n\u001b[1;32m----> 3\u001b[1;33m \u001b[0mprint\u001b[0m\u001b[1;33m(\u001b[0m\u001b[0mnp\u001b[0m\u001b[1;33m.\u001b[0m\u001b[0mpercentile\u001b[0m\u001b[1;33m(\u001b[0m\u001b[0mQ12x\u001b[0m\u001b[1;33m,\u001b[0m \u001b[1;36m5\u001b[0m\u001b[1;33m)\u001b[0m\u001b[1;33m)\u001b[0m\u001b[1;33m\u001b[0m\u001b[1;33m\u001b[0m\u001b[0m\n\u001b[0m\u001b[0;32m      4\u001b[0m \u001b[0mprint\u001b[0m\u001b[1;33m(\u001b[0m\u001b[0mnp\u001b[0m\u001b[1;33m.\u001b[0m\u001b[0mpercentile\u001b[0m\u001b[1;33m(\u001b[0m\u001b[0mQ12x\u001b[0m\u001b[1;33m,\u001b[0m \u001b[1;36m95\u001b[0m\u001b[1;33m)\u001b[0m\u001b[1;33m)\u001b[0m\u001b[1;33m\u001b[0m\u001b[1;33m\u001b[0m\u001b[0m\n",
      "\u001b[1;31mNameError\u001b[0m: name 'np' is not defined"
     ]
    }
   ],
   "source": [
    "#Question:14\n",
    "#Find the 5th and 95th percentile of an array?\n",
    "print(np.percentile(Q12x, 5))\n",
    "print(np.percentile(Q12x, 95))"
   ]
  },
  {
   "cell_type": "code",
   "execution_count": 66,
   "metadata": {},
   "outputs": [
    {
     "data": {
      "text/plain": [
       "array([[False, False],\n",
       "       [False, False]])"
      ]
     },
     "execution_count": 66,
     "metadata": {},
     "output_type": "execute_result"
    }
   ],
   "source": [
    "#Question:15\n",
    "#How to find if a given array has any null values?\n",
    "Q15x = np.arange(4).reshape(2,2)\n",
    "np.isnan(Q15x)"
   ]
  },
  {
   "cell_type": "code",
   "execution_count": null,
   "metadata": {},
   "outputs": [],
   "source": []
  }
 ],
 "metadata": {
  "kernelspec": {
   "display_name": "Python 3",
   "language": "python",
   "name": "python3"
  },
  "language_info": {
   "codemirror_mode": {
    "name": "ipython",
    "version": 3
   },
   "file_extension": ".py",
   "mimetype": "text/x-python",
   "name": "python",
   "nbconvert_exporter": "python",
   "pygments_lexer": "ipython3",
   "version": "3.7.6"
  }
 },
 "nbformat": 4,
 "nbformat_minor": 4
}
